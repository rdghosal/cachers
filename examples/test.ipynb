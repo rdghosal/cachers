{
 "cells": [
  {
   "cell_type": "code",
   "execution_count": 3,
   "metadata": {},
   "outputs": [],
   "source": [
    "import memoirs  # <- Our Rust-based package!\n",
    "import random"
   ]
  },
  {
   "cell_type": "code",
   "execution_count": 4,
   "metadata": {},
   "outputs": [],
   "source": [
    "@memoirs.Cache\n",
    "def multiply(*some_nums: float) -> list[float]:\n",
    "    print('running')\n",
    "    product: float = 1.\n",
    "    for i, num in enumerate(some_nums):\n",
    "        print(f'multiplying {i + 1} of {len(some_nums)}')\n",
    "        product *= num\n",
    "    return product"
   ]
  },
  {
   "cell_type": "code",
   "execution_count": 5,
   "metadata": {},
   "outputs": [],
   "source": [
    "def random_float(lower: float, upper: float) -> float:\n",
    "    return random.uniform(lower, upper)\n",
    "\n",
    "nums = [random_float(-100., 100.) for _ in range(random.randint(1, 100))]"
   ]
  },
  {
   "attachments": {},
   "cell_type": "markdown",
   "metadata": {},
   "source": [
    "The function is executed once, with all the associated logging."
   ]
  },
  {
   "cell_type": "code",
   "execution_count": 6,
   "metadata": {},
   "outputs": [
    {
     "name": "stdout",
     "output_type": "stream",
     "text": [
      "running\n",
      "multiplying 1 of 34\n",
      "multiplying 2 of 34\n",
      "multiplying 3 of 34\n",
      "multiplying 4 of 34\n",
      "multiplying 5 of 34\n",
      "multiplying 6 of 34\n",
      "multiplying 7 of 34\n",
      "multiplying 8 of 34\n",
      "multiplying 9 of 34\n",
      "multiplying 10 of 34\n",
      "multiplying 11 of 34\n",
      "multiplying 12 of 34\n",
      "multiplying 13 of 34\n",
      "multiplying 14 of 34\n",
      "multiplying 15 of 34\n",
      "multiplying 16 of 34\n",
      "multiplying 17 of 34\n",
      "multiplying 18 of 34\n",
      "multiplying 19 of 34\n",
      "multiplying 20 of 34\n",
      "multiplying 21 of 34\n",
      "multiplying 22 of 34\n",
      "multiplying 23 of 34\n",
      "multiplying 24 of 34\n",
      "multiplying 25 of 34\n",
      "multiplying 26 of 34\n",
      "multiplying 27 of 34\n",
      "multiplying 28 of 34\n",
      "multiplying 29 of 34\n",
      "multiplying 30 of 34\n",
      "multiplying 31 of 34\n",
      "multiplying 32 of 34\n",
      "multiplying 33 of 34\n",
      "multiplying 34 of 34\n"
     ]
    }
   ],
   "source": [
    "once = multiply(*nums)"
   ]
  },
  {
   "attachments": {},
   "cell_type": "markdown",
   "metadata": {},
   "source": [
    "Executed a second time, and you notice the logs have disappeared!"
   ]
  },
  {
   "cell_type": "code",
   "execution_count": 7,
   "metadata": {},
   "outputs": [],
   "source": [
    "twice = multiply(*nums)"
   ]
  },
  {
   "attachments": {},
   "cell_type": "markdown",
   "metadata": {},
   "source": [
    "Thankfully, the results still check out fine 😎"
   ]
  },
  {
   "cell_type": "code",
   "execution_count": 8,
   "metadata": {},
   "outputs": [],
   "source": [
    "assert once == twice"
   ]
  },
  {
   "cell_type": "code",
   "execution_count": null,
   "metadata": {},
   "outputs": [],
   "source": []
  }
 ],
 "metadata": {
  "kernelspec": {
   "display_name": ".venv",
   "language": "python",
   "name": "python3"
  },
  "language_info": {
   "codemirror_mode": {
    "name": "ipython",
    "version": 3
   },
   "file_extension": ".py",
   "mimetype": "text/x-python",
   "name": "python",
   "nbconvert_exporter": "python",
   "pygments_lexer": "ipython3",
   "version": "3.11.2"
  },
  "orig_nbformat": 4
 },
 "nbformat": 4,
 "nbformat_minor": 2
}
